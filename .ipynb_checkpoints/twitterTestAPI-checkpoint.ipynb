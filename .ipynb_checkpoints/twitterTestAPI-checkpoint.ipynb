{
 "cells": [
  {
   "cell_type": "code",
   "execution_count": 19,
   "id": "1ed74315-9dfd-472b-9ad5-6f3349994919",
   "metadata": {},
   "outputs": [],
   "source": [
    "import tweepy\n",
    "import tweetClass\n",
    "\n",
    "API_KEY = 'L9F8XiEQecuQ9ZVnsI1zr0pGF'\n",
    "API_KEY_SECRET = 'SEw6DZSmh3zEjfQg2veG2nup1yX9TWAf74EhpQav7tUZaSuzRj'\n",
    "ACCESS_TOKEN = '123851398-6XnrsMg8L3vigjJyAfoQQrGpPtTJaobWhE0MePts'\n",
    "ACCESS_TOKEN_SECRET = 'HmIQeXpdMpw4TeraY1Rqeuwv9OZjey8tDDZVRNi3zspjm'\n",
    "BEARER_TOKEN = 'AAAAAAAAAAAAAAAAAAAAAHVXfQEAAAAAFvg1fPTyqs8txsTwXHCZgQO45ts%3Dd5RM6jRlbt8STBfsaWwLVvSPrGkuhtbdyzbCVmMVmEGiPUbW9V'\n",
    "CLIENT_ID = 'WDllamhQTElQSnl6VHhJdUtwUlU6MTpjaQ'\n",
    "CLIENT_SECRET = 'IInN0A7-8u4T-L4n9GBx_Oy3A0xlB1obs_M4Bqgyl9wtYqwxIx'\n",
    "\n",
    "client = tweepy.Client(bearer_token=BEARER_TOKEN)"
   ]
  },
  {
   "cell_type": "code",
   "execution_count": 20,
   "id": "e2b586dc-8982-4477-94fc-51051d377217",
   "metadata": {
    "tags": []
   },
   "outputs": [
    {
     "name": "stdout",
     "output_type": "stream",
     "text": [
      "Response(data=[<Tweet id=1554471111093616640 text=\"@imonaboatyeahhh @Poddlemog @JamesMelville Other vaccines stop transmission, Covid vaccines do not, it real is very simple.\\n\\nHave a look at the video of the senate I've just retweeted.\">, <Tweet id=1554471109927792642 text='@danbrotherston @macrosnail @ZoeSchiffer @reckless Think it through. COVID is never going away. You can choose to continue masking, not flying, avoiding the office, and never eating indoors for the rest of your life if you like, but I don’t think most people are willing to do that.'>, <Tweet id=1554471109684350977 text='Drake contracts Covid for the second time https://t.co/K6w5PUdgEa'>, <Tweet id=1554471109201903619 text='Dolor de garganta o COVID-19: ¿cómo diferenciarlos? #WebStories https://t.co/Zd1AGrNyZC https://t.co/GV7nd45eBt'>, <Tweet id=1554471108115660804 text='Bruselas firma la compra conjunta de 250 millones de dosis de la vacuna española de Hipra contra el COVID-19 https://t.co/i0GIqjJHOV'>, <Tweet id=1554471108023287808 text='#Pacientes | Julio 2022, un mes atípico en cuanto a la salud: se mantiene la gripe y el VRS pese a la llegada de las altas temperaturas https://t.co/rdz5tYVdQU'>, <Tweet id=1554471106958049280 text='Its perfectly normal to be skeptical. Im 3x vaxxed against covid. If they suddenly present a monkeypox vaccine in less than 6 months since the news broke, we should all be a bit skeptical before accepting it. Firm believer in science, non believer in media and government.'>, <Tweet id=1554471105192202243 text='@sheryl59514812 @Jimmywonton2 Same.  MINE IS hiding from covid. Early retirement.  But he almost quit when I showed him I DID NOT NEED THE MEDs including the BP or bullshit thyroid i had been on for infertility and yet 23 years later?  Ruptured brain ANERUSYm survivor too.'>, <Tweet id=1554471103040725002 text='@JoshuaJEBradsh1 @DarnSmall @9NewsAUS Forget about what the internet and the media is telling you to believe. Just keep wearing your mask and continue to get boosted every few months and see if you still covid.'>, <Tweet id=1554471101480198145 text=\"J'AI VAINCU LE COVID LONG 💪 je te dis TOUT sur le TRAITEMENT 🦠 https://t.co/qFWof91M0k via @YouTube\">, <Tweet id=1554471094748434435 text='@JAFMacDonald I’m sorry to hear that! May it turn into short covid soon'>, <Tweet id=1554471094605778946 text='@BroganRamara @Ori_RSA Covid rescued us from that hell of a transport'>, <Tweet id=1554471093133807618 text='@TimRunsHisMouth Can we sue Scott Wiener from San Francisco who wants to vaccinate minors without parental consent for Covid?'>, <Tweet id=1554471091434815489 text='@FoxNews So the only guy with actual Covid there isn’t wearing a mask. #science!'>, <Tweet id=1554471090126483458 text='Why is COVID virus now so infectious? Evidence that VAX antibodies can/may bind to N-terminal domain on spike &amp; induces open conformation of RBD &amp; enhances the binding capacity of the spike to ACE2 https://t.co/jDcCo8ONdd'>, <Tweet id=1554471089341927425 text='@irEnriqueCortes Dit➡️Dr.Flemming verklaart onder ede dat Covid-19 en de vaccins biowapens zijn en dat het NAZI praktijken zijn en dat de verantwoordelijke hier verantwoording voor dienen af te leggen.'>, <Tweet id=1554471088255602688 text='ICYMI: Watch day 1 of the #SexDifferences &amp; #GenderDifferences in #COVID19 Outcomes workshop. COVID survivors share their stories &amp; experts discuss COVID-19 #SexDisparities, the impact of #SDOH, epidemiology &amp; #pregnancy: https://t.co/Ukr6HSwbBl https://t.co/Jjuke3fQnu'>, <Tweet id=1554471086175174656 text='@RoryDun76684897 Well my Tweet is unfortunately very true. Look at what happened with COVID and the shortage of chips.'>, <Tweet id=1554471082022821888 text='@JohnKerryFan @POTUS Biden got Covid twice, after 2 vaccines and 2 boasters. A little suspicious'>, <Tweet id=1554471081477554178 text=\"Well I see Twitter is back to its bullshit of attacking truth adn free speech they don't like. I was just attacked once again for speaking hte truth about what it says onthe box of mask about covid. So I got suspended for another 12 hours. Twitter lefitsts are pathetic!\">], includes={}, errors=[], meta={'newest_id': '1554471111093616640', 'oldest_id': '1554471081477554178', 'result_count': 20, 'next_token': 'b26v89c19zqg8o3fpz5lsxfc81hptdmjqomljbn3fc6t9'})\n"
     ]
    }
   ],
   "source": [
    "query = 'covid -is:retweet'\n",
    "response = client.search_recent_tweets(query=query, max_results=20)\n",
    "tweets = [tweet.text for tweet in response.data]"
   ]
  },
  {
   "cell_type": "code",
   "execution_count": 22,
   "id": "712bacc1-657e-477d-8167-f100a457e755",
   "metadata": {},
   "outputs": [
    {
     "data": {
      "text/plain": [
       "[\"@imonaboatyeahhh @Poddlemog @JamesMelville Other vaccines stop transmission, Covid vaccines do not, it real is very simple.\\n\\nHave a look at the video of the senate I've just retweeted.\",\n",
       " '@danbrotherston @macrosnail @ZoeSchiffer @reckless Think it through. COVID is never going away. You can choose to continue masking, not flying, avoiding the office, and never eating indoors for the rest of your life if you like, but I don’t think most people are willing to do that.',\n",
       " 'Drake contracts Covid for the second time https://t.co/K6w5PUdgEa',\n",
       " 'Dolor de garganta o COVID-19: ¿cómo diferenciarlos? #WebStories https://t.co/Zd1AGrNyZC https://t.co/GV7nd45eBt',\n",
       " 'Bruselas firma la compra conjunta de 250 millones de dosis de la vacuna española de Hipra contra el COVID-19 https://t.co/i0GIqjJHOV',\n",
       " '#Pacientes | Julio 2022, un mes atípico en cuanto a la salud: se mantiene la gripe y el VRS pese a la llegada de las altas temperaturas https://t.co/rdz5tYVdQU',\n",
       " 'Its perfectly normal to be skeptical. Im 3x vaxxed against covid. If they suddenly present a monkeypox vaccine in less than 6 months since the news broke, we should all be a bit skeptical before accepting it. Firm believer in science, non believer in media and government.',\n",
       " '@sheryl59514812 @Jimmywonton2 Same.  MINE IS hiding from covid. Early retirement.  But he almost quit when I showed him I DID NOT NEED THE MEDs including the BP or bullshit thyroid i had been on for infertility and yet 23 years later?  Ruptured brain ANERUSYm survivor too.',\n",
       " '@JoshuaJEBradsh1 @DarnSmall @9NewsAUS Forget about what the internet and the media is telling you to believe. Just keep wearing your mask and continue to get boosted every few months and see if you still covid.',\n",
       " \"J'AI VAINCU LE COVID LONG 💪 je te dis TOUT sur le TRAITEMENT 🦠 https://t.co/qFWof91M0k via @YouTube\",\n",
       " '@JAFMacDonald I’m sorry to hear that! May it turn into short covid soon',\n",
       " '@BroganRamara @Ori_RSA Covid rescued us from that hell of a transport',\n",
       " '@TimRunsHisMouth Can we sue Scott Wiener from San Francisco who wants to vaccinate minors without parental consent for Covid?',\n",
       " '@FoxNews So the only guy with actual Covid there isn’t wearing a mask. #science!',\n",
       " 'Why is COVID virus now so infectious? Evidence that VAX antibodies can/may bind to N-terminal domain on spike &amp; induces open conformation of RBD &amp; enhances the binding capacity of the spike to ACE2 https://t.co/jDcCo8ONdd',\n",
       " '@irEnriqueCortes Dit➡️Dr.Flemming verklaart onder ede dat Covid-19 en de vaccins biowapens zijn en dat het NAZI praktijken zijn en dat de verantwoordelijke hier verantwoording voor dienen af te leggen.',\n",
       " 'ICYMI: Watch day 1 of the #SexDifferences &amp; #GenderDifferences in #COVID19 Outcomes workshop. COVID survivors share their stories &amp; experts discuss COVID-19 #SexDisparities, the impact of #SDOH, epidemiology &amp; #pregnancy: https://t.co/Ukr6HSwbBl https://t.co/Jjuke3fQnu',\n",
       " '@RoryDun76684897 Well my Tweet is unfortunately very true. Look at what happened with COVID and the shortage of chips.',\n",
       " '@JohnKerryFan @POTUS Biden got Covid twice, after 2 vaccines and 2 boasters. A little suspicious',\n",
       " \"Well I see Twitter is back to its bullshit of attacking truth adn free speech they don't like. I was just attacked once again for speaking hte truth about what it says onthe box of mask about covid. So I got suspended for another 12 hours. Twitter lefitsts are pathetic!\"]"
      ]
     },
     "execution_count": 22,
     "metadata": {},
     "output_type": "execute_result"
    }
   ],
   "source": [
    "classifier = tweetClass.getClassifier()\n",
    "res = tweetClass.evalTweets(classifier, tweets)"
   ]
  },
  {
   "cell_type": "code",
   "execution_count": 23,
   "id": "3a527708-ed4b-4281-80b1-6a2be0e07c43",
   "metadata": {},
   "outputs": [],
   "source": [
    "res"
   ]
  },
  {
   "cell_type": "code",
   "execution_count": 24,
   "id": "1c35b33d-bb38-476a-a3f5-dd75d49aab6a",
   "metadata": {},
   "outputs": [
    {
     "data": {
      "text/plain": [
       "['Positive',\n",
       " 'Negative',\n",
       " 'Positive',\n",
       " 'Negative',\n",
       " 'Negative',\n",
       " 'Negative',\n",
       " 'Positive',\n",
       " 'Negative',\n",
       " 'Positive',\n",
       " 'Positive',\n",
       " 'Negative',\n",
       " 'Positive',\n",
       " 'Negative',\n",
       " 'Positive',\n",
       " 'Negative',\n",
       " 'Negative',\n",
       " 'Positive',\n",
       " 'Negative',\n",
       " 'Negative',\n",
       " 'Negative']"
      ]
     },
     "execution_count": 24,
     "metadata": {},
     "output_type": "execute_result"
    }
   ],
   "source": []
  },
  {
   "cell_type": "code",
   "execution_count": null,
   "id": "ec39c417-b827-4811-bfb7-76125ba46f80",
   "metadata": {},
   "outputs": [],
   "source": []
  },
  {
   "cell_type": "code",
   "execution_count": 7,
   "id": "3c5979ee-d1bf-4a4f-af2d-099b106dd209",
   "metadata": {},
   "outputs": [
    {
     "data": {
      "text/plain": [
       "2"
      ]
     },
     "execution_count": 7,
     "metadata": {},
     "output_type": "execute_result"
    }
   ],
   "source": []
  }
 ],
 "metadata": {
  "kernelspec": {
   "display_name": "Python 3 (ipykernel)",
   "language": "python",
   "name": "python3"
  },
  "language_info": {
   "codemirror_mode": {
    "name": "ipython",
    "version": 3
   },
   "file_extension": ".py",
   "mimetype": "text/x-python",
   "name": "python",
   "nbconvert_exporter": "python",
   "pygments_lexer": "ipython3",
   "version": "3.9.7"
  }
 },
 "nbformat": 4,
 "nbformat_minor": 5
}
