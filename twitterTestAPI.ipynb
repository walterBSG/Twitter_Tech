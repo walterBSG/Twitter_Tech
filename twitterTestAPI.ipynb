{
 "cells": [
  {
   "cell_type": "code",
   "execution_count": 1,
   "id": "1ed74315-9dfd-472b-9ad5-6f3349994919",
   "metadata": {},
   "outputs": [],
   "source": [
    "import tweepy\n",
    "import config\n",
    "import tweetClass\n",
    "\n",
    "client = tweepy.Client(bearer_token=config.BEARER_TOKEN)"
   ]
  },
  {
   "cell_type": "code",
   "execution_count": 2,
   "id": "e2b586dc-8982-4477-94fc-51051d377217",
   "metadata": {
    "tags": []
   },
   "outputs": [],
   "source": [
    "query = 'covid -is:retweet'\n",
    "response = client.search_recent_tweets(query=query, max_results=20)\n",
    "tweets = [tweet.text for tweet in response.data]"
   ]
  },
  {
   "cell_type": "code",
   "execution_count": 3,
   "id": "712bacc1-657e-477d-8167-f100a457e755",
   "metadata": {},
   "outputs": [],
   "source": [
    "classifier = tweetClass.getClassifier()\n",
    "res = tweetClass.evalTweets(classifier, tweets)"
   ]
  },
  {
   "cell_type": "code",
   "execution_count": 4,
   "id": "3a527708-ed4b-4281-80b1-6a2be0e07c43",
   "metadata": {},
   "outputs": [
    {
     "data": {
      "text/plain": [
       "['Positive',\n",
       " 'Negative',\n",
       " 'Negative',\n",
       " 'Negative',\n",
       " 'Negative',\n",
       " 'Positive',\n",
       " 'Negative',\n",
       " 'Negative',\n",
       " 'Negative',\n",
       " 'Negative',\n",
       " 'Negative',\n",
       " 'Negative',\n",
       " 'Positive',\n",
       " 'Positive',\n",
       " 'Negative',\n",
       " 'Positive',\n",
       " 'Negative',\n",
       " 'Positive',\n",
       " 'Negative',\n",
       " 'Negative']"
      ]
     },
     "execution_count": 4,
     "metadata": {},
     "output_type": "execute_result"
    }
   ],
   "source": [
    "res"
   ]
  },
  {
   "cell_type": "code",
   "execution_count": null,
   "id": "1c35b33d-bb38-476a-a3f5-dd75d49aab6a",
   "metadata": {},
   "outputs": [],
   "source": []
  },
  {
   "cell_type": "code",
   "execution_count": null,
   "id": "ec39c417-b827-4811-bfb7-76125ba46f80",
   "metadata": {},
   "outputs": [],
   "source": []
  },
  {
   "cell_type": "code",
   "execution_count": null,
   "id": "3c5979ee-d1bf-4a4f-af2d-099b106dd209",
   "metadata": {},
   "outputs": [],
   "source": []
  },
  {
   "cell_type": "code",
   "execution_count": null,
   "id": "6435e398-c195-46a4-af56-8d2c7fd88001",
   "metadata": {},
   "outputs": [],
   "source": []
  }
 ],
 "metadata": {
  "kernelspec": {
   "display_name": "Python 3 (ipykernel)",
   "language": "python",
   "name": "python3"
  },
  "language_info": {
   "codemirror_mode": {
    "name": "ipython",
    "version": 3
   },
   "file_extension": ".py",
   "mimetype": "text/x-python",
   "name": "python",
   "nbconvert_exporter": "python",
   "pygments_lexer": "ipython3",
   "version": "3.10.6"
  }
 },
 "nbformat": 4,
 "nbformat_minor": 5
}
